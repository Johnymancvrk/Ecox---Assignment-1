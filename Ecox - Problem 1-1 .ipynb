{
 "cells": [
  {
   "cell_type": "code",
   "execution_count": 3,
   "id": "336a12cb",
   "metadata": {},
   "outputs": [
    {
     "name": "stderr",
     "output_type": "stream",
     "text": [
      "also installing the dependencies 'SparseM', 'MatrixModels'\n",
      "\n"
     ]
    },
    {
     "name": "stdout",
     "output_type": "stream",
     "text": [
      "\n",
      "  There is a binary version available but the source version is later:\n",
      "         binary source needs_compilation\n",
      "quantreg   5.85   5.86              TRUE\n",
      "\n",
      "  Binaries will be installed\n",
      "package 'SparseM' successfully unpacked and MD5 sums checked\n",
      "package 'MatrixModels' successfully unpacked and MD5 sums checked\n",
      "package 'quantreg' successfully unpacked and MD5 sums checked\n"
     ]
    },
    {
     "name": "stderr",
     "output_type": "stream",
     "text": [
      "Warning message:\n",
      "\"cannot remove prior installation of package 'quantreg'\"Warning message in file.copy(savedcopy, lib, recursive = TRUE):\n",
      "\"problem copying C:\\Users\\jancv\\.conda\\envs\\r_env\\Lib\\R\\library\\00LOCK\\quantreg\\doc\\rq.pdf to C:\\Users\\jancv\\.conda\\envs\\r_env\\Lib\\R\\library\\quantreg\\doc\\rq.pdf: Permission denied\"Warning message:\n",
      "\"restored 'quantreg'\""
     ]
    },
    {
     "name": "stdout",
     "output_type": "stream",
     "text": [
      "\n",
      "The downloaded binary packages are in\n",
      "\tC:\\Users\\jancv\\AppData\\Local\\Temp\\RtmpMzvlch\\downloaded_packages\n"
     ]
    },
    {
     "ename": "ERROR",
     "evalue": "Error in library(\"quantreg\"): there is no package called 'quantreg'\n",
     "output_type": "error",
     "traceback": [
      "Error in library(\"quantreg\"): there is no package called 'quantreg'\nTraceback:\n",
      "1. library(\"quantreg\")"
     ]
    }
   ],
   "source": [
    "#install.packages(c(\"lmtest\", \"sandwich\",'car'))\n",
    "install.packages('quantreg')\n",
    "library('lmtest') \n",
    "library('sandwich')\n",
    "library('car')\n",
    "library('quantreg')"
   ]
  },
  {
   "cell_type": "code",
   "execution_count": null,
   "id": "ab0a37a9",
   "metadata": {},
   "outputs": [],
   "source": []
  },
  {
   "cell_type": "markdown",
   "id": "02a8a268",
   "metadata": {},
   "source": [
    "First, we generated data in line with the instructions. We decided to include 33 observations to study the behaviour of the estimates using a border value of validity. We believe that this decision will make the estimates interesting."
   ]
  },
  {
   "cell_type": "code",
   "execution_count": 2,
   "id": "96141891",
   "metadata": {},
   "outputs": [],
   "source": [
    "set.seed(150)\n",
    "m<-33\n",
    "data <- matrix(nrow=m,ncol=6)\n",
    "colnames(data) <- c('price','milage','years_old','convertible','luxury_brand','error')\n",
    "data[,'milage'] <- rnorm(m,mean=1000,sd=300)\n",
    "data[,'years_old'] <- sample(c(seq(2,15,1)),m,replace=TRUE)\n",
    "data[,'convertible'] <- rbinom(m,1,0.5)\n",
    "data[,'luxury_brand'] <- rbinom(m,1,0.5)\n",
    "data[,'error'] <- rnorm(m,mean=0,sd=15**(0.5))\n",
    "data[,'price'] <- 1000 - 0.0005*(data[,'milage']**2) - 5*(data[,'years_old'])+50*(data[,'convertible']) + 100*(data[,'luxury_brand']) + data[,'error']\n",
    "data <- as.data.frame(data)"
   ]
  },
  {
   "cell_type": "markdown",
   "id": "d37468ba",
   "metadata": {},
   "source": [
    "### 1."
   ]
  },
  {
   "cell_type": "markdown",
   "id": "a85e434c",
   "metadata": {},
   "source": [
    "After simulating the data, we found 4 values to be negative. This, of course, does not make any sense and therefore, these observations were dropped leaving us with a total of 29 data points."
   ]
  },
  {
   "cell_type": "code",
   "execution_count": 6,
   "id": "62d5e65f",
   "metadata": {},
   "outputs": [
    {
     "data": {
      "text/plain": [
       "   Min. 1st Qu.  Median    Mean 3rd Qu.    Max. \n",
       " -439.4   262.1   473.1   452.9   639.0  1103.1 "
      ]
     },
     "metadata": {},
     "output_type": "display_data"
    },
    {
     "data": {
      "text/html": [
       "359.767970588043"
      ],
      "text/latex": [
       "359.767970588043"
      ],
      "text/markdown": [
       "359.767970588043"
      ],
      "text/plain": [
       "[1] 359.768"
      ]
     },
     "metadata": {},
     "output_type": "display_data"
    },
    {
     "data": {
      "text/plain": [
       "   Min. 1st Qu.  Median    Mean 3rd Qu.    Max. \n",
       "  11.42  363.05  522.09  539.85  731.80 1103.12 "
      ]
     },
     "metadata": {},
     "output_type": "display_data"
    },
    {
     "data": {
      "text/html": [
       "281.562152575709"
      ],
      "text/latex": [
       "281.562152575709"
      ],
      "text/markdown": [
       "281.562152575709"
      ],
      "text/plain": [
       "[1] 281.5622"
      ]
     },
     "metadata": {},
     "output_type": "display_data"
    },
    {
     "data": {
      "text/html": [
       "29"
      ],
      "text/latex": [
       "29"
      ],
      "text/markdown": [
       "29"
      ],
      "text/plain": [
       "[1] 29"
      ]
     },
     "metadata": {},
     "output_type": "display_data"
    }
   ],
   "source": [
    "summary(data[,'price'])\n",
    "sd(data[,'price'])\n",
    "data <- subset(data,price>=0)\n",
    "summary(data[,'price'])\n",
    "sd(data[,'price'])\n",
    "nrow(data)"
   ]
  },
  {
   "cell_type": "markdown",
   "id": "afb0e6e7",
   "metadata": {},
   "source": [
    "Further, we present the density of the prices as well as the histogram. Based on these statistics, we can notice that the distribution is pretty symmetric. Perhaps, a little bit skewed to the right since the median is lower than mean. Lastly, the standard deviation declined significantly by eliminating the negative observations."
   ]
  },
  {
   "cell_type": "code",
   "execution_count": 24,
   "id": "6e73f2a1",
   "metadata": {},
   "outputs": [
    {
     "data": {
      "image/png": "[encoded data removed]",
      "text/plain": [
       "Plot with title \"Histogram of the simulated prices\""
      ]
     },
     "metadata": {},
     "output_type": "display_data"
    }
   ],
   "source": [
    "par(mfrow=c(2,1))\n",
    "plot(density(data[,'price']), main = \"Density of the simulated prices\")\n",
    "hist(data[,'price'],main = \"Histogram of the simulated prices\", xlab=\"Prices\")"
   ]
  },
  {
   "cell_type": "markdown",
   "id": "e6d088b8",
   "metadata": {},
   "source": [
    "### 2."
   ]
  },
  {
   "cell_type": "markdown",
   "id": "1b5ef0b1",
   "metadata": {},
   "source": [
    "We estimated the following regression model."
   ]
  },
  {
   "cell_type": "markdown",
   "id": "2f8bd3cf",
   "metadata": {},
   "source": [
    "$$\\begin{equation*}\n",
    "price_i = \\alpha_0 + \\alpha_{1}*milage_i + \\alpha * years\\_old_i + 50*convertible_i + 100*luxury\\_brand_i + \\epsilon_i\n",
    "\\end{equation*}$$"
   ]
  },
  {
   "cell_type": "code",
   "execution_count": 54,
   "id": "2a568452",
   "metadata": {
    "scrolled": true
   },
   "outputs": [
    {
     "data": {
      "text/plain": [
       "\n",
       "Call:\n",
       "lm(formula = price ~ milage + years_old + convertible + luxury_brand, \n",
       "    data = data)\n",
       "\n",
       "Residuals:\n",
       "    Min      1Q  Median      3Q     Max \n",
       "-92.004 -27.464   9.348  29.185  76.682 \n",
       "\n",
       "Coefficients:\n",
       "               Estimate Std. Error t value Pr(>|t|)    \n",
       "(Intercept)  1279.69375   47.29723  27.056  < 2e-16 ***\n",
       "milage         -0.84037    0.03969 -21.172  < 2e-16 ***\n",
       "years_old      -1.61701    2.99570  -0.540    0.594    \n",
       "convertible     8.90708   20.68242   0.431    0.671    \n",
       "luxury_brand  107.31408   22.16095   4.842  6.2e-05 ***\n",
       "---\n",
       "Signif. codes:  0 '***' 0.001 '**' 0.01 '*' 0.05 '.' 0.1 ' ' 1\n",
       "\n",
       "Residual standard error: 51.23 on 24 degrees of freedom\n",
       "Multiple R-squared:  0.9716,\tAdjusted R-squared:  0.9669 \n",
       "F-statistic: 205.4 on 4 and 24 DF,  p-value: < 2.2e-16\n"
      ]
     },
     "metadata": {},
     "output_type": "display_data"
    }
   ],
   "source": [
    "summary(model1 <- lm(price ~ milage + years_old + convertible + luxury_brand, data))"
   ]
  },
  {
   "cell_type": "markdown",
   "id": "a14eeee5",
   "metadata": {},
   "source": [
    "First of all, we can see that the R-squared as well as the adjusted one are both really high. This is understandably driven by having artificial data. Normally, this could be a sign of overfitting the model, which might be solved by dividing the sample into training and testing sets.$$\\space$$\n",
    "Nevertheless, we have two insignifacant variables and two significant ones together with the interception. All of the slopes are as expected, but the gradients are distinct. Most evident is the alpha_1, where our prior was -0.0005. This is caused by a false specification of our model since we only assume a normal term of milage and not the squared one, which was used to simulate the data. This problem can be tested using a so-called Ramsey Regression Equation Specification Error Test (RESET) that tests for a non-linear relationship of the regressors in explaining the dependent variable. Further, we also test for the presence of heteroscesasticity by a Breusch-Pagan test."
   ]
  },
  {
   "cell_type": "code",
   "execution_count": 55,
   "id": "bd28b50d",
   "metadata": {},
   "outputs": [
    {
     "data": {
      "text/plain": [
       "\n",
       "\tRESET test\n",
       "\n",
       "data:  model1\n",
       "RESET = 302.18, df1 = 2, df2 = 22, p-value < 2.2e-16\n"
      ]
     },
     "metadata": {},
     "output_type": "display_data"
    },
    {
     "data": {
      "text/plain": [
       "\n",
       "\tstudentized Breusch-Pagan test\n",
       "\n",
       "data:  model1\n",
       "BP = 10.836, df = 4, p-value = 0.02847\n"
      ]
     },
     "metadata": {},
     "output_type": "display_data"
    }
   ],
   "source": [
    "reset(model1)\n",
    "bptest(model1)"
   ]
  },
  {
   "cell_type": "markdown",
   "id": "16a1004d",
   "metadata": {},
   "source": [
    "In the case of the RESET test, we strongly reject the null-hypothesis meaning that we suffer from a misspecification of our model. This makes sense since the squared term ought to be included.$$\\space$$\n",
    "Regarding the BP-test, we also reject the null-hypothesis leaving our model with variance of the residuals dependent on the explanatory variable(s)."
   ]
  },
  {
   "cell_type": "markdown",
   "id": "83357fe8",
   "metadata": {},
   "source": [
    "### 3."
   ]
  },
  {
   "cell_type": "markdown",
   "id": "c6c51629",
   "metadata": {},
   "source": [
    "Now, we have the following specification"
   ]
  },
  {
   "cell_type": "markdown",
   "id": "05a514dd",
   "metadata": {},
   "source": [
    "$$\\begin{equation*}\n",
    "price_i = \\alpha_0 + \\alpha_{1}*milage_{i}^2 + \\alpha * years\\_old_i + 50*convertible_i + 100*luxury\\_brand_i + \\epsilon_i\n",
    "\\end{equation*}$$"
   ]
  },
  {
   "cell_type": "code",
   "execution_count": 53,
   "id": "6b7a9e36",
   "metadata": {},
   "outputs": [
    {
     "data": {
      "text/plain": [
       "\n",
       "Call:\n",
       "lm(formula = price ~ I(milage * milage) + years_old + convertible + \n",
       "    luxury_brand, data = data)\n",
       "\n",
       "Residuals:\n",
       "    Min      1Q  Median      3Q     Max \n",
       "-7.3422 -1.4784 -0.3514  2.2482  5.8169 \n",
       "\n",
       "Coefficients:\n",
       "                     Estimate Std. Error t value Pr(>|t|)    \n",
       "(Intercept)         9.966e+02  2.635e+00  378.28   <2e-16 ***\n",
       "I(milage * milage) -5.002e-04  1.471e-06 -339.94   <2e-16 ***\n",
       "years_old          -4.896e+00  1.874e-01  -26.13   <2e-16 ***\n",
       "convertible         5.122e+01  1.364e+00   37.56   <2e-16 ***\n",
       "luxury_brand        1.018e+02  1.418e+00   71.75   <2e-16 ***\n",
       "---\n",
       "Signif. codes:  0 '***' 0.001 '**' 0.01 '*' 0.05 '.' 0.1 ' ' 1\n",
       "\n",
       "Residual standard error: 3.275 on 24 degrees of freedom\n",
       "Multiple R-squared:  0.9999,\tAdjusted R-squared:  0.9999 \n",
       "F-statistic: 5.174e+04 on 4 and 24 DF,  p-value: < 2.2e-16\n"
      ]
     },
     "metadata": {},
     "output_type": "display_data"
    }
   ],
   "source": [
    "summary(model2 <- lm(price ~ I(milage*milage) + years_old + convertible + luxury_brand, data))"
   ]
  },
  {
   "cell_type": "markdown",
   "id": "6630f653",
   "metadata": {},
   "source": [
    "This time, the model yields better results. Since we have the true specification, we explain almost all of the variability of the regressand by the regressors. These are all significant having the expected signs. To test this formally, we apply the linear hypothesis test."
   ]
  },
  {
   "cell_type": "code",
   "execution_count": 65,
   "id": "0fe68687",
   "metadata": {},
   "outputs": [
    {
     "data": {
      "text/html": [
       "<table>\n",
       "<thead><tr><th scope=col>Res.Df</th><th scope=col>RSS</th><th scope=col>Df</th><th scope=col>Sum of Sq</th><th scope=col>F</th><th scope=col>Pr(&gt;F)</th></tr></thead>\n",
       "<tbody>\n",
       "\t<tr><td>25        </td><td>257.5326  </td><td>NA        </td><td>       NA </td><td>        NA</td><td>       NA </td></tr>\n",
       "\t<tr><td>24        </td><td>257.3737  </td><td> 1        </td><td>0.1588839 </td><td>0.01481586</td><td>0.9041339 </td></tr>\n",
       "</tbody>\n",
       "</table>\n"
      ],
      "text/latex": [
       "\\begin{tabular}{r|llllll}\n",
       " Res.Df & RSS & Df & Sum of Sq & F & Pr(>F)\\\\\n",
       "\\hline\n",
       "\t 25         & 257.5326   & NA         &        NA  &         NA &        NA \\\\\n",
       "\t 24         & 257.3737   &  1         & 0.1588839  & 0.01481586 & 0.9041339 \\\\\n",
       "\\end{tabular}\n"
      ],
      "text/markdown": [
       "\n",
       "| Res.Df | RSS | Df | Sum of Sq | F | Pr(>F) |\n",
       "|---|---|---|---|---|---|\n",
       "| 25         | 257.5326   | NA         |        NA  |         NA |        NA  |\n",
       "| 24         | 257.3737   |  1         | 0.1588839  | 0.01481586 | 0.9041339  |\n",
       "\n"
      ],
      "text/plain": [
       "  Res.Df RSS      Df Sum of Sq F          Pr(>F)   \n",
       "1 25     257.5326 NA        NA         NA        NA\n",
       "2 24     257.3737  1 0.1588839 0.01481586 0.9041339"
      ]
     },
     "metadata": {},
     "output_type": "display_data"
    },
    {
     "data": {
      "text/html": [
       "<table>\n",
       "<thead><tr><th scope=col>Res.Df</th><th scope=col>RSS</th><th scope=col>Df</th><th scope=col>Sum of Sq</th><th scope=col>F</th><th scope=col>Pr(&gt;F)</th></tr></thead>\n",
       "<tbody>\n",
       "\t<tr><td>25       </td><td>260.6503 </td><td>NA       </td><td>      NA </td><td>       NA</td><td>       NA</td></tr>\n",
       "\t<tr><td>24       </td><td>257.3737 </td><td> 1       </td><td>3.276595 </td><td>0.3055412</td><td>0.5855414</td></tr>\n",
       "</tbody>\n",
       "</table>\n"
      ],
      "text/latex": [
       "\\begin{tabular}{r|llllll}\n",
       " Res.Df & RSS & Df & Sum of Sq & F & Pr(>F)\\\\\n",
       "\\hline\n",
       "\t 25        & 260.6503  & NA        &       NA  &        NA &        NA\\\\\n",
       "\t 24        & 257.3737  &  1        & 3.276595  & 0.3055412 & 0.5855414\\\\\n",
       "\\end{tabular}\n"
      ],
      "text/markdown": [
       "\n",
       "| Res.Df | RSS | Df | Sum of Sq | F | Pr(>F) |\n",
       "|---|---|---|---|---|---|\n",
       "| 25        | 260.6503  | NA        |       NA  |        NA |        NA |\n",
       "| 24        | 257.3737  |  1        | 3.276595  | 0.3055412 | 0.5855414 |\n",
       "\n"
      ],
      "text/plain": [
       "  Res.Df RSS      Df Sum of Sq F         Pr(>F)   \n",
       "1 25     260.6503 NA       NA         NA        NA\n",
       "2 24     257.3737  1 3.276595  0.3055412 0.5855414"
      ]
     },
     "metadata": {},
     "output_type": "display_data"
    },
    {
     "data": {
      "text/html": [
       "<table>\n",
       "<thead><tr><th scope=col>Res.Df</th><th scope=col>RSS</th><th scope=col>Df</th><th scope=col>Sum of Sq</th><th scope=col>F</th><th scope=col>Pr(&gt;F)</th></tr></thead>\n",
       "<tbody>\n",
       "\t<tr><td>25       </td><td>266.0092 </td><td>NA       </td><td>      NA </td><td>      NA </td><td>       NA</td></tr>\n",
       "\t<tr><td>24       </td><td>257.3737 </td><td> 1       </td><td>8.635466 </td><td>0.805254 </td><td>0.3784412</td></tr>\n",
       "</tbody>\n",
       "</table>\n"
      ],
      "text/latex": [
       "\\begin{tabular}{r|llllll}\n",
       " Res.Df & RSS & Df & Sum of Sq & F & Pr(>F)\\\\\n",
       "\\hline\n",
       "\t 25        & 266.0092  & NA        &       NA  &       NA  &        NA\\\\\n",
       "\t 24        & 257.3737  &  1        & 8.635466  & 0.805254  & 0.3784412\\\\\n",
       "\\end{tabular}\n"
      ],
      "text/markdown": [
       "\n",
       "| Res.Df | RSS | Df | Sum of Sq | F | Pr(>F) |\n",
       "|---|---|---|---|---|---|\n",
       "| 25        | 266.0092  | NA        |       NA  |       NA  |        NA |\n",
       "| 24        | 257.3737  |  1        | 8.635466  | 0.805254  | 0.3784412 |\n",
       "\n"
      ],
      "text/plain": [
       "  Res.Df RSS      Df Sum of Sq F        Pr(>F)   \n",
       "1 25     266.0092 NA       NA        NA        NA\n",
       "2 24     257.3737  1 8.635466  0.805254 0.3784412"
      ]
     },
     "metadata": {},
     "output_type": "display_data"
    },
    {
     "data": {
      "text/html": [
       "<table>\n",
       "<thead><tr><th scope=col>Res.Df</th><th scope=col>RSS</th><th scope=col>Df</th><th scope=col>Sum of Sq</th><th scope=col>F</th><th scope=col>Pr(&gt;F)</th></tr></thead>\n",
       "<tbody>\n",
       "\t<tr><td>25       </td><td>273.9141 </td><td>NA       </td><td>      NA </td><td>      NA </td><td>       NA</td></tr>\n",
       "\t<tr><td>24       </td><td>257.3737 </td><td> 1       </td><td>16.54043 </td><td>1.542389 </td><td>0.2262625</td></tr>\n",
       "</tbody>\n",
       "</table>\n"
      ],
      "text/latex": [
       "\\begin{tabular}{r|llllll}\n",
       " Res.Df & RSS & Df & Sum of Sq & F & Pr(>F)\\\\\n",
       "\\hline\n",
       "\t 25        & 273.9141  & NA        &       NA  &       NA  &        NA\\\\\n",
       "\t 24        & 257.3737  &  1        & 16.54043  & 1.542389  & 0.2262625\\\\\n",
       "\\end{tabular}\n"
      ],
      "text/markdown": [
       "\n",
       "| Res.Df | RSS | Df | Sum of Sq | F | Pr(>F) |\n",
       "|---|---|---|---|---|---|\n",
       "| 25        | 273.9141  | NA        |       NA  |       NA  |        NA |\n",
       "| 24        | 257.3737  |  1        | 16.54043  | 1.542389  | 0.2262625 |\n",
       "\n"
      ],
      "text/plain": [
       "  Res.Df RSS      Df Sum of Sq F        Pr(>F)   \n",
       "1 25     273.9141 NA       NA        NA        NA\n",
       "2 24     257.3737  1 16.54043  1.542389 0.2262625"
      ]
     },
     "metadata": {},
     "output_type": "display_data"
    }
   ],
   "source": [
    "linearHypothesis(model2,c(\"I(milage * milage)=-0.0005\"))\n",
    "linearHypothesis(model2,c(\"years_old=-5\"))\n",
    "linearHypothesis(model2,c(\"convertible=50\"))\n",
    "linearHypothesis(model2,c(\"luxury_brand=100\"))"
   ]
  },
  {
   "cell_type": "markdown",
   "id": "7f615b47",
   "metadata": {},
   "source": [
    "The null-hypothesis is always that the values are equal. All the p-values are, however, high and we can never reject it. Therefore, this finding supports the prior, which is logical."
   ]
  },
  {
   "cell_type": "markdown",
   "id": "9b4a90a0",
   "metadata": {},
   "source": [
    "### 4."
   ]
  },
  {
   "cell_type": "markdown",
   "id": "2346206e",
   "metadata": {},
   "source": [
    "In this problem, we generate the data using a product of the error term and milage. If we were to estimate the model as in 3, heteroscedasticity would occur since the overall errors would be a function of the milage. The negative observations are not dropped since we would not have many left."
   ]
  },
  {
   "cell_type": "code",
   "execution_count": 96,
   "id": "3748cad8",
   "metadata": {
    "scrolled": true
   },
   "outputs": [],
   "source": [
    "data[,'price_2'] <- 1000 - 0.0005*(data[,'milage']**2) - 5*(data[,'years_old'])+50*(data[,'convertible']) + 100*(data[,'luxury_brand']) + (data[,'milage'])*data[,'error']"
   ]
  },
  {
   "cell_type": "code",
   "execution_count": 97,
   "id": "6a815dbb",
   "metadata": {},
   "outputs": [
    {
     "data": {
      "text/plain": [
       "\n",
       "Call:\n",
       "lm(formula = price_2 ~ I(milage * milage) + years_old + convertible + \n",
       "    luxury_brand, data = data)\n",
       "\n",
       "Residuals:\n",
       "    Min      1Q  Median      3Q     Max \n",
       "-5339.0 -1083.2  -432.2  1789.8  5175.3 \n",
       "\n",
       "Coefficients:\n",
       "                     Estimate Std. Error t value Pr(>|t|)  \n",
       "(Intercept)        -2.043e+03  2.246e+03  -0.910   0.3720  \n",
       "I(milage * milage) -9.013e-04  1.254e-03  -0.719   0.4793  \n",
       "years_old           1.140e+02  1.597e+02   0.714   0.4821  \n",
       "convertible         2.238e+02  1.163e+03   0.192   0.8490  \n",
       "luxury_brand        2.149e+03  1.209e+03   1.777   0.0882 .\n",
       "---\n",
       "Signif. codes:  0 '***' 0.001 '**' 0.01 '*' 0.05 '.' 0.1 ' ' 1\n",
       "\n",
       "Residual standard error: 2792 on 24 degrees of freedom\n",
       "Multiple R-squared:  0.1687,\tAdjusted R-squared:  0.0301 \n",
       "F-statistic: 1.217 on 4 and 24 DF,  p-value: 0.3296\n"
      ]
     },
     "metadata": {},
     "output_type": "display_data"
    }
   ],
   "source": [
    "summary(model3 <- lm(price_2 ~ I(milage*milage) + years_old + convertible + luxury_brand, data))"
   ]
  },
  {
   "cell_type": "markdown",
   "id": "97570bba",
   "metadata": {},
   "source": [
    "To check for the issue, we can use the Breusch-Pagan test. Based on the p-value being equal to 0.09686, we are on the border of rejecting the null-hypothesis. This is a bit surprising because we explicitly introduced the form of heteroscedasticity. Perhaps, the low number of observations together with the variability of the simulated errors cause this marginal behaviour. We also present a scatter plotof the variable milage^2 and residuals from the model, where we expect the changing variance."
   ]
  },
  {
   "cell_type": "code",
   "execution_count": 99,
   "id": "aed17c8f",
   "metadata": {},
   "outputs": [
    {
     "data": {
      "text/plain": [
       "\n",
       "\tstudentized Breusch-Pagan test\n",
       "\n",
       "data:  model3\n",
       "BP = 7.8596, df = 4, p-value = 0.09686\n"
      ]
     },
     "metadata": {},
     "output_type": "display_data"
    },
    {
     "data": {
      "image/png": "[encoded data removed]",
      "text/plain": [
       "plot without title"
      ]
     },
     "metadata": {},
     "output_type": "display_data"
    }
   ],
   "source": [
    "bptest(model3)\n",
    "plot((data[,'milage'])^2,model3$residuals)"
   ]
  },
  {
   "cell_type": "markdown",
   "id": "9e3de5c1",
   "metadata": {},
   "source": [
    "in the case we know the exact form of heteroscedasticity, we can apply it in a method called weighted least squares, where we divide the model by the known form of heteroscedasticity."
   ]
  },
  {
   "cell_type": "code",
   "execution_count": 103,
   "id": "73873ef7",
   "metadata": {},
   "outputs": [
    {
     "data": {
      "text/plain": [
       "\n",
       "Call:\n",
       "lm(formula = price_2 ~ I(milage * milage) + years_old + convertible + \n",
       "    luxury_brand, data = data, weights = w)\n",
       "\n",
       "Weighted Residuals:\n",
       "    Min      1Q  Median      3Q     Max \n",
       "-5.5517 -1.3918 -0.2291  2.3106  5.2932 \n",
       "\n",
       "Coefficients:\n",
       "                     Estimate Std. Error t value Pr(>|t|)  \n",
       "(Intercept)        -1.685e+03  1.824e+03  -0.924   0.3647  \n",
       "I(milage * milage) -7.474e-04  1.130e-03  -0.661   0.5148  \n",
       "years_old           2.796e+01  1.296e+02   0.216   0.8310  \n",
       "convertible         1.950e+03  8.325e+02   2.343   0.0278 *\n",
       "luxury_brand        1.667e+03  1.338e+03   1.246   0.2249  \n",
       "---\n",
       "Signif. codes:  0 '***' 0.001 '**' 0.01 '*' 0.05 '.' 0.1 ' ' 1\n",
       "\n",
       "Residual standard error: 3.043 on 24 degrees of freedom\n",
       "Multiple R-squared:  0.288,\tAdjusted R-squared:  0.1693 \n",
       "F-statistic: 2.427 on 4 and 24 DF,  p-value: 0.07564\n"
      ]
     },
     "metadata": {},
     "output_type": "display_data"
    }
   ],
   "source": [
    "w <- (1/data$milage)**2\n",
    "model3.wls <- lm(price_2 ~ I(milage*milage) + years_old + convertible + luxury_brand, weights = w, data=data)\n",
    "summary(model3.wls)"
   ]
  },
  {
   "cell_type": "code",
   "execution_count": 101,
   "id": "0983ddba",
   "metadata": {},
   "outputs": [
    {
     "data": {
      "text/plain": [
       "\n",
       "\tstudentized Breusch-Pagan test\n",
       "\n",
       "data:  model3.wls\n",
       "BP = 7.8596, df = 4, p-value = 0.09686\n"
      ]
     },
     "metadata": {},
     "output_type": "display_data"
    }
   ],
   "source": [
    "bptest(model3.wls)"
   ]
  },
  {
   "cell_type": "markdown",
   "id": "a4c25498",
   "metadata": {},
   "source": [
    "### 5."
   ]
  },
  {
   "cell_type": "code",
   "execution_count": 4,
   "id": "9866c0ae",
   "metadata": {},
   "outputs": [
    {
     "ename": "ERROR",
     "evalue": "Error in rq(price ~ I(milage * milage) + years_old + convertible + luxury_brand, : could not find function \"rq\"\n",
     "output_type": "error",
     "traceback": [
      "Error in rq(price ~ I(milage * milage) + years_old + convertible + luxury_brand, : could not find function \"rq\"\nTraceback:\n",
      "1. plot(summary(rq(price ~ I(milage * milage) + years_old + convertible + \n .     luxury_brand, data = data, tau = seq(from = 0.05, to = 0.95, \n .     by = 0.05))))",
      "2. summary(rq(price ~ I(milage * milage) + years_old + convertible + \n .     luxury_brand, data = data, tau = seq(from = 0.05, to = 0.95, \n .     by = 0.05)))"
     ]
    }
   ],
   "source": [
    "options(repr.plot.width=6, repr.plot.height=6)\n",
    "plot(summary(rq(price ~I(milage*milage) + years_old + convertible + luxury_brand, data=data, tau=seq(from=0.05, to=0.95, by=0.05))))"
   ]
  },
  {
   "cell_type": "code",
   "execution_count": null,
   "id": "dfe6ddf7",
   "metadata": {},
   "outputs": [],
   "source": []
  }
 ],
 "metadata": {
  "kernelspec": {
   "display_name": "R",
   "language": "R",
   "name": "ir"
  },
  "language_info": {
   "codemirror_mode": "r",
   "file_extension": ".r",
   "mimetype": "text/x-r-source",
   "name": "R",
   "pygments_lexer": "r",
   "version": "3.6.1"
  }
 },
 "nbformat": 4,
 "nbformat_minor": 5
}
